{
 "cells": [
  {
   "cell_type": "markdown",
   "metadata": {},
   "source": [
    "# Findings"
   ]
  },
  {
   "cell_type": "markdown",
   "metadata": {},
   "source": [
    "## 1. How well-received is each app category; that is, what is the mean rating for each category of apps?"
   ]
  },
  {
   "cell_type": "markdown",
   "metadata": {},
   "source": [
    "In general, each app category is pretty well-received.  All but one category had a mean rating between 4 and 5, and the one category that did not fall in this range- dating- had a mean rating of 3.97.  As the range of mean ratings for app categories is approximately 4.44-3.97=0.47, we believe that the category an app falls in does not have a large affect on what it's rating is likely to be."
   ]
  },
  {
   "cell_type": "markdown",
   "metadata": {},
   "source": [
    "## 2. How populous is each category; that is, which category has the most apps?"
   ]
  },
  {
   "cell_type": "markdown",
   "metadata": {},
   "source": [
    "The category with the largest number of apps is family.  In the data set that we used, this category has nearly 1750 apps.  The category with the fewest number of apps in this data set- beauty- has fewer than 250 apps."
   ]
  },
  {
   "cell_type": "markdown",
   "metadata": {},
   "source": [
    "## 3. How often is each category of apps installed; that is, what is the total number of installations per category?"
   ]
  },
  {
   "cell_type": "markdown",
   "metadata": {},
   "source": [
    "The category with the highest number of app installations is game.  The category with the second-highest number of app installations is communication.  These two categories more than double the number of app installations for every other category.  In fact, these two categories have so many app installtions, that they skew the x-axis in such a way, that the bar for nearly one third of the categories is not present, as there are too few installtions in these categories  to reach even a low number on the axis."
   ]
  },
  {
   "cell_type": "markdown",
   "metadata": {},
   "source": [
    "## 4. Are there any relationships between mean-rating, number of apps, and total downloads by category?"
   ]
  },
  {
   "cell_type": "markdown",
   "metadata": {},
   "source": [
    "We notice that the category with the largest number of apps- family- is not the category with the highest mean rating, which is events.  To build on this, when we view the scatter plot showing the Number of Apps vs Average Rating, we do not notice any obvious relationship.  Because of this, we are led to believe that the number of apps a category has does not have a strong affect on what that category's average rating will be.\n",
    "\n",
    "We also notice that the category with the largest numberof app installtions- game- is not the category with the highest mean rating.  A scatter plot showing the total number of installs vs average rating fails to show any obvious relationship between these two variables as well.  This tells us that the number of installations from an app category is not a good way to measure that category's \"popularity,\" as these installations have very little- if any- correlation with the average rating.\n",
    "\n",
    "We were surprised to see that the number of apps in a category has no, or very little, affect on the total number of installations for that category.  The family category- for example- has the largest number of apps, yet this category also has only the sixth-most number of installations.  To get a better picture though, we can view the scatter plot showing the number of apps vs the total number of installations, where we do not see any obvious relationship."
   ]
  },
  {
   "cell_type": "markdown",
   "metadata": {},
   "source": [
    "## 5. Given a list of words of interest, which word appears most often in written reviews?"
   ]
  },
  {
   "cell_type": "markdown",
   "metadata": {},
   "source": [
    "We searched a list containing the words: \"good,\" \"bad,\" \"love,\" \"hate,\" \"best,\" \"worst,\" \"update,\" \"slow,\" \"advertisement,\" \"uninstall,\" \"problem,\" \"bug,\" \"money,\" \"price,\" \"premium,\" and \"sucks,\" and plotted these words in a word cloud.  The words that stood out the most were \"good,\" \"love,\" \"update,\" and \"problem.\"  The antonym of \"good\"- \"bad\"- was much less noticeable in our word cloud.  Similarly, the word \"love\" stood out much more than it's antonym- \"hate,\" and the word \"best\" stood out much more than it's antonym- \"worst.\"\n",
    "\n",
    "While words of positive connotation- such as \"best\"- may not be more prevelant than other neutral words- such as \"update\"- we notice that positive words are always more prevelant than their antonym of negative connotation, and though the positive word \"best\" was not as prevelant as the neutral word \"update\", two of our three positive words- \"good,\" and \"love\" were the largest words in our word cloud."
   ]
  },
  {
   "cell_type": "markdown",
   "metadata": {},
   "source": [
    "## 6. Given a single word of interest, what other words appear in reviews that contain this word?"
   ]
  },
  {
   "cell_type": "markdown",
   "metadata": {},
   "source": [
    "When we searched the word \"best\" in each review, other words that stood out in reviews with this word were: \"game,\" \"app,\" \"time,\" \"love,\" \"good,\" and \"great.\"  When we searched the word \"worst\" in each review, other words that stood out in reviews with this word were: \"game,\" \"app,\" \"update,\" \"time,\" \"good,\" and \"want.\"  We noticed that even when searching each review using two antonyms, certain words will show up with both words.  Whether we search each review for the word \"best\", or \"worst\", we often see the word \"game,\" \"app,\" and even \"good\" appear with our word of interest.\n",
    "\n",
    "Because of this, we hesitate to make any conclusions based on why someone would use the word \"best,\" or \"worst,\" in their review.  We also remember from earlier that the game category has the largest total number of installations, and realize that game apps are susceptible to a very wide range of review types.\n",
    "\n",
    "We also searched reviews for the word \"uninstall\" to see what other words appear with this word.  Words that stood out to us were \"update,\" \"ad,\" \"problem,\" \"still,\" \"tried,\" and \"account.\"  We cannot conclude that ads and accounts cause people to uninstall, as we are not sure if accounts cause people to uninstall, or problems with accounts, or something else.  It is only worth noting that people often use these words in reviews when they use the word uninstall."
   ]
  },
  {
   "cell_type": "markdown",
   "metadata": {},
   "source": [
    "## 7. Given a list of words of interest, what percentage of reviews with each word of interest have a positive, negative, or neutral sentiment?"
   ]
  },
  {
   "cell_type": "markdown",
   "metadata": {},
   "source": [
    "We noticed that approximately 60% of app reviews had a positive sentiment; approximately 20% had a negative sentiment, and approximately 10% had a neutral sentiment.  We were curious to see how these numbers change when we limit ourselvs to only reviews that contain a certain word of interest.\n",
    "\n",
    "When looking only at reviews that contain the word \"love,\" we noticed that nearly 90% of the reviews are positive; around 5-10% are negative, and the remaining reviews are neutral.  When we look at only reviews that contain the word \"hate,\" we noticed that approximately 70% of reviews are negative; approximately 30% are positive, and a small remainder of reviews are neutral.  We were interested to see that reviews with the word \"love\" are overwhelmingly positive, whereas the percentage of reviews with the word \"hate\" are not overwhelmingly negative, but rather only more negative than positive.\n",
    "\n",
    "We also limited ourselves to only reviews containing other words such as \"update,\" \"money,\" or \"price.\"  For each word, there were more positive reviews that negative reviews.  We even saw this for the word \"problem.\"  The last two words we used were \"advertisement,\" and \"sucks,\" both of which showed more negative reviews than positive, but neither of which were overwhelmingly negative.\n",
    "\n",
    "From this we gathered that reviews tend to be negative only when they contain words of negative connotation.  In order to see a higher percentage of negative reviews than positive reviews, we had to limit ourselves to only reviews that contain words such as \"hate,\" \"sucks,\" or \"advertisements,\" which- given the context- can be considered a word with negative connotation.\n",
    "\n",
    "This does not mean however, that just because a review contains a negative word means the review will be negative.  We saw that when we limited ourselves to only reviews with the word \"problem,\" there were still more positive reviews than negative ones.\n",
    "\n",
    "Lastly, for certain words, we saw an overwhelmingly higher number of positive reviews than negative words, but while we saw that some words lead to more negative reviews than positive reviews, there were never an overwhelmingly higher number of negative reviews with the words we chose."
   ]
  }
 ],
 "metadata": {
  "kernelspec": {
   "display_name": "Python 3",
   "language": "python",
   "name": "python3"
  },
  "language_info": {
   "codemirror_mode": {
    "name": "ipython",
    "version": 3
   },
   "file_extension": ".py",
   "mimetype": "text/x-python",
   "name": "python",
   "nbconvert_exporter": "python",
   "pygments_lexer": "ipython3",
   "version": "3.6.5"
  }
 },
 "nbformat": 4,
 "nbformat_minor": 2
}
